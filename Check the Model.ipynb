{
 "cells": [
  {
   "cell_type": "code",
   "execution_count": 48,
   "id": "f432d382-7e01-4d37-8379-daa2f6ea8960",
   "metadata": {},
   "outputs": [
    {
     "data": {
      "text/plain": [
       "Index(['Type of Account', 'Account History', 'Reason for the Loan',\n",
       "       'Loan Amount', 'Account Savings', 'Employment History',\n",
       "       'Individual Stauts', 'Other Loans', 'Security / Collateral', 'Age',\n",
       "       'Residence Status', 'Job', 'Completed Other loan?'],\n",
       "      dtype='object')"
      ]
     },
     "execution_count": 48,
     "metadata": {},
     "output_type": "execute_result"
    }
   ],
   "source": [
    "import numpy as np\n",
    "import pandas as pd\n",
    "import joblib\n",
    "\n",
    "\n",
    "new_data = pd.read_csv(\"new_data.csv\")\n",
    "new_data.columns"
   ]
  },
  {
   "cell_type": "code",
   "execution_count": 46,
   "id": "31125646-807f-492b-bff1-e9d6ea081063",
   "metadata": {},
   "outputs": [
    {
     "data": {
      "text/plain": [
       "(1, 48)"
      ]
     },
     "execution_count": 46,
     "metadata": {},
     "output_type": "execute_result"
    }
   ],
   "source": [
    "import json\n",
    "\n",
    "with open(\"model_features_dt.json\") as f:\n",
    "    columns_to_keep = json.load(f)\n",
    "\n",
    "new_en_data = pd.get_dummies(new_data, columns = new_data.columns)\n",
    "\n",
    "\n",
    "for col in columns_to_keep:\n",
    "    if col not in new_en_data.columns:\n",
    "        new_en_data[col] = 0\n",
    "new_en_data = new_en_data[columns_to_keep]   \n",
    "new_en_data.shape\n"
   ]
  },
  {
   "cell_type": "code",
   "execution_count": 42,
   "id": "ba005339-ff98-44e1-8110-6472d313a1b4",
   "metadata": {},
   "outputs": [],
   "source": [
    "loaded_model = joblib.load('loan_approval_model_dt.pkl')\n",
    "prediction = loaded_model.predict(new_en_data)"
   ]
  },
  {
   "cell_type": "code",
   "execution_count": 44,
   "id": "f342beb0-fad9-4b09-acee-0f85f5bdf2ce",
   "metadata": {},
   "outputs": [
    {
     "name": "stdout",
     "output_type": "stream",
     "text": [
      "loan approved? : Yes\n"
     ]
    }
   ],
   "source": [
    "if prediction == 1:\n",
    "    print(\"loan approved? : Yes\")\n",
    "else:\n",
    "    print(\"loan approved: No\")"
   ]
  },
  {
   "cell_type": "code",
   "execution_count": null,
   "id": "826b9649-c442-4f73-9848-5f5616995068",
   "metadata": {},
   "outputs": [],
   "source": []
  },
  {
   "cell_type": "code",
   "execution_count": null,
   "id": "bed38534-fbf8-4387-9045-872b04e07e50",
   "metadata": {},
   "outputs": [],
   "source": []
  }
 ],
 "metadata": {
  "kernelspec": {
   "display_name": "Python 3 (ipykernel)",
   "language": "python",
   "name": "python3"
  },
  "language_info": {
   "codemirror_mode": {
    "name": "ipython",
    "version": 3
   },
   "file_extension": ".py",
   "mimetype": "text/x-python",
   "name": "python",
   "nbconvert_exporter": "python",
   "pygments_lexer": "ipython3",
   "version": "3.12.7"
  }
 },
 "nbformat": 4,
 "nbformat_minor": 5
}
